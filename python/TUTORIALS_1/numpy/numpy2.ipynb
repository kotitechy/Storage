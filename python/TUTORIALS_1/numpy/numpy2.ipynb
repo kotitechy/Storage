{
 "cells": [
  {
   "cell_type": "code",
   "execution_count": 13,
   "id": "1a97a432-7dcb-4b1f-843f-4b421c98b759",
   "metadata": {
    "tags": []
   },
   "outputs": [
    {
     "data": {
      "text/plain": [
       "array([[10,  1,  2],\n",
       "       [ 3,  8,  5],\n",
       "       [ 6, 10,  8]])"
      ]
     },
     "execution_count": 13,
     "metadata": {},
     "output_type": "execute_result"
    }
   ],
   "source": [
    "import numpy as np\n",
    "# 2-d arrays\n",
    "x=[[10,1,2],[3,8,5],[6,10,8]]\n",
    "ar1 = np.array(x)\n",
    "ar1"
   ]
  },
  {
   "cell_type": "code",
   "execution_count": 14,
   "id": "8e900d94-af44-4fd5-a984-f7d1ead50693",
   "metadata": {
    "tags": []
   },
   "outputs": [
    {
     "data": {
      "text/plain": [
       "9"
      ]
     },
     "execution_count": 14,
     "metadata": {},
     "output_type": "execute_result"
    }
   ],
   "source": [
    "# attributes\n",
    "ar1.shape\n",
    "ar1.dtype\n",
    "ar1.size"
   ]
  },
  {
   "cell_type": "code",
   "execution_count": 19,
   "id": "0f06549c-8acc-42a2-a9bb-fdac40b77a28",
   "metadata": {
    "tags": []
   },
   "outputs": [
    {
     "data": {
      "text/plain": [
       "array([0, 1, 1], dtype=int64)"
      ]
     },
     "execution_count": 19,
     "metadata": {},
     "output_type": "execute_result"
    }
   ],
   "source": [
    "# min,max,sort\n",
    "ar1.argmax(axis=0)\n",
    "ar1.argmax(axis=1)"
   ]
  },
  {
   "cell_type": "code",
   "execution_count": 20,
   "id": "3aa1e56c-4f3a-4cf0-9527-247283519139",
   "metadata": {
    "tags": []
   },
   "outputs": [
    {
     "data": {
      "text/plain": [
       "array([1, 0, 0], dtype=int64)"
      ]
     },
     "execution_count": 20,
     "metadata": {},
     "output_type": "execute_result"
    }
   ],
   "source": [
    "ar1.argmin(axis=1)\n",
    "ar1.argmin(axis=0)"
   ]
  },
  {
   "cell_type": "code",
   "execution_count": 22,
   "id": "b4cf4f98-c9bb-4d05-b5ef-96d03ec1d44d",
   "metadata": {
    "tags": []
   },
   "outputs": [
    {
     "data": {
      "text/plain": [
       "array([[1, 2, 0],\n",
       "       [0, 2, 1],\n",
       "       [0, 2, 1]], dtype=int64)"
      ]
     },
     "execution_count": 22,
     "metadata": {},
     "output_type": "execute_result"
    }
   ],
   "source": [
    "ar1.argsort()"
   ]
  },
  {
   "cell_type": "code",
   "execution_count": 26,
   "id": "3a8ac1ee-3321-4e29-978b-e24800e32379",
   "metadata": {
    "tags": []
   },
   "outputs": [
    {
     "data": {
      "text/plain": [
       "array([19, 19, 15])"
      ]
     },
     "execution_count": 26,
     "metadata": {},
     "output_type": "execute_result"
    }
   ],
   "source": [
    "# sum\n",
    "ar1.sum(axis=1)\n",
    "ar1.sum(axis=0)"
   ]
  },
  {
   "cell_type": "code",
   "execution_count": 28,
   "id": "7b370605-a53e-4193-9ce8-9a7c29a8270c",
   "metadata": {
    "tags": []
   },
   "outputs": [
    {
     "data": {
      "text/plain": [
       "array([[10,  3,  6],\n",
       "       [ 1,  8, 10],\n",
       "       [ 2,  5,  8]])"
      ]
     },
     "execution_count": 28,
     "metadata": {},
     "output_type": "execute_result"
    }
   ],
   "source": [
    "# transpose\n",
    "ar1.T"
   ]
  },
  {
   "cell_type": "code",
   "execution_count": 31,
   "id": "c82cff31-ad05-4b38-8406-34bb0ab40c48",
   "metadata": {
    "tags": []
   },
   "outputs": [
    {
     "name": "stdout",
     "output_type": "stream",
     "text": [
      "<numpy.flatiter object at 0x000002D00BD95B10>\n"
     ]
    }
   ],
   "source": [
    "print(ar1.flat)"
   ]
  },
  {
   "cell_type": "code",
   "execution_count": 34,
   "id": "20bc6c73-780d-4982-912b-b9c2c8aa8cef",
   "metadata": {
    "tags": []
   },
   "outputs": [
    {
     "name": "stdout",
     "output_type": "stream",
     "text": [
      "10\n",
      "1\n",
      "2\n",
      "3\n",
      "8\n",
      "5\n",
      "6\n",
      "10\n",
      "8\n"
     ]
    }
   ],
   "source": [
    "for i in ar1.flat:\n",
    "    print(i)"
   ]
  },
  {
   "cell_type": "code",
   "execution_count": 36,
   "id": "2ab756cd-5645-4ad2-9c66-be1d8ed12c36",
   "metadata": {
    "tags": []
   },
   "outputs": [
    {
     "data": {
      "text/plain": [
       "2"
      ]
     },
     "execution_count": 36,
     "metadata": {},
     "output_type": "execute_result"
    }
   ],
   "source": [
    "ar1.ndim"
   ]
  },
  {
   "cell_type": "code",
   "execution_count": 38,
   "id": "0469394a-37d6-4952-9aaf-8bef58e2a0c9",
   "metadata": {
    "tags": []
   },
   "outputs": [
    {
     "data": {
      "text/plain": [
       "36"
      ]
     },
     "execution_count": 38,
     "metadata": {},
     "output_type": "execute_result"
    }
   ],
   "source": [
    "ar1.nbytes"
   ]
  },
  {
   "cell_type": "code",
   "execution_count": null,
   "id": "9519a250-b9f6-44d7-9794-b7b527cf56b1",
   "metadata": {},
   "outputs": [],
   "source": []
  }
 ],
 "metadata": {
  "kernelspec": {
   "display_name": "Python 3 (ipykernel)",
   "language": "python",
   "name": "python3"
  },
  "language_info": {
   "codemirror_mode": {
    "name": "ipython",
    "version": 3
   },
   "file_extension": ".py",
   "mimetype": "text/x-python",
   "name": "python",
   "nbconvert_exporter": "python",
   "pygments_lexer": "ipython3",
   "version": "3.11.5"
  }
 },
 "nbformat": 4,
 "nbformat_minor": 5
}
