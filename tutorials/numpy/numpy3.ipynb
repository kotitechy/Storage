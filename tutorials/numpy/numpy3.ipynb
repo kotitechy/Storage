{
 "cells": [
  {
   "cell_type": "code",
   "execution_count": 3,
   "id": "8368e6e8-3631-44b6-899e-73891a67db2a",
   "metadata": {
    "tags": []
   },
   "outputs": [
    {
     "name": "stdout",
     "output_type": "stream",
     "text": [
      "list-array:  [1 2 3 4 5]\n",
      "tuple-array:  [1 2 3 4 5 2 1 3 4 5 6 7]\n",
      "set-array:  {1, 2, 3, 4, 5, 6, 7}\n"
     ]
    }
   ],
   "source": [
    "# array creation methods\n",
    "# 1.list/tuple/set to array\n",
    "import numpy as np\n",
    "ar1=np.array([1,2,3,4,5])\n",
    "print('list-array: ',ar1)\n",
    "ar1=np.array((1,2,3,4,5,2,1,3,4,5,6,7))\n",
    "print('tuple-array: ',ar1)\n",
    "ar1=np.array({1,2,3,4,5,6,7})\n",
    "print('set-array: ',ar1)"
   ]
  },
  {
   "cell_type": "code",
   "execution_count": 14,
   "id": "1f4751b7-a051-41d6-8679-a1d1bb9255b7",
   "metadata": {
    "tags": []
   },
   "outputs": [
    {
     "name": "stdout",
     "output_type": "stream",
     "text": [
      "1-d array :  [0. 0. 0.]\n",
      "2-d array :  [[0. 0. 0.]\n",
      " [0. 0. 0.]\n",
      " [0. 0. 0.]]\n"
     ]
    }
   ],
   "source": [
    "# 2. intrensic conversion\n",
    "import numpy as np\n",
    "ar1 = np.zeros(3) # 1-d array\n",
    "print(\"1-d array : \",ar1)\n",
    "ar2 = np.zeros((3,3))\n",
    "print(\"2-d array : \",ar2)"
   ]
  },
  {
   "cell_type": "code",
   "execution_count": 17,
   "id": "8b49c974-7ace-474b-8116-34b1d2390223",
   "metadata": {
    "tags": []
   },
   "outputs": [
    {
     "name": "stdout",
     "output_type": "stream",
     "text": [
      "[ 0  1  2  3  4  5  6  7  8  9 10 11 12 13 14]\n"
     ]
    }
   ],
   "source": [
    "# 3. creation of lists using arange function\n",
    "ar3 = np.arange(15)\n",
    "print(ar3)"
   ]
  },
  {
   "cell_type": "code",
   "execution_count": 22,
   "id": "a848a1ee-4dcb-4e0c-a202-16595bacf994",
   "metadata": {
    "tags": []
   },
   "outputs": [
    {
     "name": "stdout",
     "output_type": "stream",
     "text": [
      "[  1.    25.75  50.5   75.25 100.  ]\n"
     ]
    }
   ],
   "source": [
    "# 4. linspace --> returns linear spaced elements in specied range\n",
    "ar5 = np.linspace(1,100,5)\n",
    "print(ar5)"
   ]
  },
  {
   "cell_type": "code",
   "execution_count": 30,
   "id": "195d7c3e-d234-4a47-8b70-e8e41f5dbe8f",
   "metadata": {
    "tags": []
   },
   "outputs": [
    {
     "name": "stdout",
     "output_type": "stream",
     "text": [
      "[4.67296746e-307 1.69121096e-306 2.78146455e-307 8.34441742e-308\n",
      " 1.78022342e-306 6.23058028e-307 9.79107872e-307 6.89807188e-307\n",
      " 7.56594375e-307 6.23060065e-307 1.78021527e-306 8.34454050e-308\n",
      " 1.11261027e-306 2.04712907e-306 5.74802010e+294]\n",
      "[[0. 0. 0.]\n",
      " [0. 0. 0.]\n",
      " [0. 0. 0.]]\n"
     ]
    }
   ],
   "source": [
    "# 5. empty/random-array --> filled with zeros and ones\n",
    "ar6 = np.empty(15) # array of 15 elements\n",
    "print(ar6)\n",
    "ar7 = np.empty((3,3)) # array with random values and withn,n diemensions\n",
    "print(ar7)"
   ]
  },
  {
   "cell_type": "code",
   "execution_count": 34,
   "id": "a2bc7e63-db1b-4de7-82a3-c4d472aed418",
   "metadata": {
    "tags": []
   },
   "outputs": [
    {
     "name": "stdout",
     "output_type": "stream",
     "text": [
      "[1 2 3 4 5 6 7 8]\n",
      "[[-285262720      32765   83317584]\n",
      " [       438   83316224        438]\n",
      " [  83316944        438    4259926]]\n"
     ]
    }
   ],
   "source": [
    "# empty_like mwthod\n",
    "# 1-d array\n",
    "x = np.array([1,2,3,4,5,6,7,8])\n",
    "ar8 = np.empty_like(x)\n",
    "print(ar8)\n",
    "# 2-d array\n",
    "x = np.array([[1,2,3],[4,5,6],[7,8,9]])\n",
    "ar8 = np.empty_like(x)\n",
    "print(ar8)"
   ]
  },
  {
   "cell_type": "code",
   "execution_count": 43,
   "id": "ff64b605-aa13-4b12-9426-3025ef384c47",
   "metadata": {
    "tags": []
   },
   "outputs": [
    {
     "name": "stdout",
     "output_type": "stream",
     "text": [
      "[[1. 0. 0. 0.]\n",
      " [0. 1. 0. 0.]\n",
      " [0. 0. 1. 0.]\n",
      " [0. 0. 0. 1.]]\n"
     ]
    }
   ],
   "source": [
    "# identity\n",
    "ar9 = np.identity(99)\n",
    "print(ar9)"
   ]
  },
  {
   "cell_type": "code",
   "execution_count": 60,
   "id": "2eb1ccd9-82d2-4ce4-b4ea-1e302a28aa74",
   "metadata": {
    "tags": []
   },
   "outputs": [
    {
     "data": {
      "text/plain": [
       "array([ 0,  1,  2,  3,  4,  5,  6,  7,  8,  9, 10, 11, 12, 13, 14, 15, 16,\n",
       "       17, 18, 19, 20, 21, 22, 23, 24, 25, 26, 27, 28, 29, 30, 31, 32, 33,\n",
       "       34, 35, 36, 37, 38, 39, 40, 41, 42, 43, 44, 45, 46, 47, 48, 49, 50,\n",
       "       51, 52, 53, 54, 55, 56, 57, 58, 59, 60, 61, 62, 63, 64, 65, 66, 67,\n",
       "       68, 69, 70, 71, 72, 73, 74, 75, 76, 77, 78, 79, 80, 81, 82, 83, 84,\n",
       "       85, 86, 87, 88, 89, 90, 91, 92, 93, 94, 95, 96, 97, 98])"
      ]
     },
     "execution_count": 60,
     "metadata": {},
     "output_type": "execute_result"
    }
   ],
   "source": [
    "# nd-1d\n",
    "ar9.ravel\n",
    "ar9"
   ]
  },
  {
   "cell_type": "code",
   "execution_count": 61,
   "id": "a56000ae-b357-442a-bb15-dc84f58db871",
   "metadata": {
    "tags": []
   },
   "outputs": [
    {
     "data": {
      "text/plain": [
       "array([[ 0,  1,  2,  3,  4,  5,  6,  7,  8,  9, 10, 11, 12, 13, 14, 15,\n",
       "        16, 17, 18, 19, 20, 21, 22, 23, 24, 25, 26, 27, 28, 29, 30, 31,\n",
       "        32],\n",
       "       [33, 34, 35, 36, 37, 38, 39, 40, 41, 42, 43, 44, 45, 46, 47, 48,\n",
       "        49, 50, 51, 52, 53, 54, 55, 56, 57, 58, 59, 60, 61, 62, 63, 64,\n",
       "        65],\n",
       "       [66, 67, 68, 69, 70, 71, 72, 73, 74, 75, 76, 77, 78, 79, 80, 81,\n",
       "        82, 83, 84, 85, 86, 87, 88, 89, 90, 91, 92, 93, 94, 95, 96, 97,\n",
       "        98]])"
      ]
     },
     "execution_count": 61,
     "metadata": {},
     "output_type": "execute_result"
    }
   ],
   "source": [
    "# 1d - nd\n",
    "# reshape\n",
    "ar9 = np.arange(99)\n",
    "ar9.reshape(3,33)"
   ]
  }
 ],
 "metadata": {
  "kernelspec": {
   "display_name": "Python 3 (ipykernel)",
   "language": "python",
   "name": "python3"
  },
  "language_info": {
   "codemirror_mode": {
    "name": "ipython",
    "version": 3
   },
   "file_extension": ".py",
   "mimetype": "text/x-python",
   "name": "python",
   "nbconvert_exporter": "python",
   "pygments_lexer": "ipython3",
   "version": "3.11.5"
  }
 },
 "nbformat": 4,
 "nbformat_minor": 5
}
