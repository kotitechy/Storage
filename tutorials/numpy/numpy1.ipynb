{
 "cells": [
  {
   "cell_type": "code",
   "execution_count": 5,
   "id": "56187bf2-9256-4239-bd58-0f6802a83d33",
   "metadata": {
    "tags": []
   },
   "outputs": [],
   "source": [
    "# pip install numpy\n",
    "import numpy as np"
   ]
  },
  {
   "cell_type": "code",
   "execution_count": 16,
   "id": "5e318b5d-639d-4309-9744-824a4a0e2a1a",
   "metadata": {
    "tags": []
   },
   "outputs": [
    {
     "name": "stdout",
     "output_type": "stream",
     "text": [
      "[1 2 3 4 5 6 7]\n"
     ]
    }
   ],
   "source": [
    "# 1-d array\n",
    "ar1 = np.array([1,2,3,4,5,6,7],np.int8)\n",
    "print(ar1)"
   ]
  },
  {
   "cell_type": "code",
   "execution_count": 23,
   "id": "a1036697-d1ec-4fd7-a8dc-e64d2e2e8dc2",
   "metadata": {
    "tags": []
   },
   "outputs": [
    {
     "name": "stdout",
     "output_type": "stream",
     "text": [
      "5\n"
     ]
    }
   ],
   "source": [
    "# access array elements\n",
    "print(ar1[4])"
   ]
  },
  {
   "cell_type": "code",
   "execution_count": 39,
   "id": "46de0b8f-f7bd-4c21-9cba-e35a61dd4c64",
   "metadata": {
    "tags": []
   },
   "outputs": [
    {
     "data": {
      "text/plain": [
       "array([5, 6], dtype=int8)"
      ]
     },
     "execution_count": 39,
     "metadata": {},
     "output_type": "execute_result"
    }
   ],
   "source": [
    "# from start to specified\n",
    "ar1[0:3]\n",
    "ar1[:2]\n",
    "# specified points\n",
    "ar1[3:4]\n",
    "ar1[5:]\n",
    "ar1[:-1]\n",
    "ar1[-3:-1]\n",
    "\n"
   ]
  },
  {
   "cell_type": "code",
   "execution_count": 41,
   "id": "e585d270-a10c-4872-8c5f-f6ff3cd98da3",
   "metadata": {
    "tags": []
   },
   "outputs": [
    {
     "data": {
      "text/plain": [
       "(7,)"
      ]
     },
     "execution_count": 41,
     "metadata": {},
     "output_type": "execute_result"
    }
   ],
   "source": [
    "# array info\n",
    "ar1.shape\n"
   ]
  },
  {
   "cell_type": "code",
   "execution_count": 43,
   "id": "c8948398-93a4-4771-9528-94460d4b4ae0",
   "metadata": {
    "tags": []
   },
   "outputs": [
    {
     "data": {
      "text/plain": [
       "dtype('int8')"
      ]
     },
     "execution_count": 43,
     "metadata": {},
     "output_type": "execute_result"
    }
   ],
   "source": [
    "ar1.dtype"
   ]
  },
  {
   "cell_type": "code",
   "execution_count": 45,
   "id": "b6b2a1b2-27c9-459a-9896-bb44121265fa",
   "metadata": {
    "tags": []
   },
   "outputs": [
    {
     "data": {
      "text/plain": [
       "7"
      ]
     },
     "execution_count": 45,
     "metadata": {},
     "output_type": "execute_result"
    }
   ],
   "source": [
    "ar1.size"
   ]
  },
  {
   "cell_type": "code",
   "execution_count": 47,
   "id": "5d7a86cd-2236-478f-a412-aaf6e25677cc",
   "metadata": {
    "tags": []
   },
   "outputs": [],
   "source": [
    "ar1[0]=100\n"
   ]
  },
  {
   "cell_type": "code",
   "execution_count": 49,
   "id": "1504c76c-532f-4e25-a094-4023bf1e5c4e",
   "metadata": {
    "tags": []
   },
   "outputs": [
    {
     "data": {
      "text/plain": [
       "100"
      ]
     },
     "execution_count": 49,
     "metadata": {},
     "output_type": "execute_result"
    }
   ],
   "source": [
    "ar1[0]"
   ]
  },
  {
   "cell_type": "code",
   "execution_count": 51,
   "id": "a06aade3-dd04-40b4-91ca-99efe6f3c271",
   "metadata": {},
   "outputs": [
    {
     "data": {
      "text/plain": [
       "1"
      ]
     },
     "execution_count": 51,
     "metadata": {},
     "output_type": "execute_result"
    }
   ],
   "source": [
    "# diemensions\n",
    "ar1.ndim"
   ]
  },
  {
   "cell_type": "code",
   "execution_count": 54,
   "id": "2372d46d-ae58-4777-b792-41cf9d1d446a",
   "metadata": {
    "tags": []
   },
   "outputs": [
    {
     "data": {
      "text/plain": [
       "<numpy.flatiter at 0x1d1d856fef0>"
      ]
     },
     "execution_count": 54,
     "metadata": {},
     "output_type": "execute_result"
    }
   ],
   "source": [
    "ar1.flat"
   ]
  },
  {
   "cell_type": "code",
   "execution_count": 55,
   "id": "ea284df6-52fb-4e15-90a1-d586b05d02d4",
   "metadata": {
    "tags": []
   },
   "outputs": [
    {
     "data": {
      "text/plain": [
       "7"
      ]
     },
     "execution_count": 55,
     "metadata": {},
     "output_type": "execute_result"
    }
   ],
   "source": [
    "ar1.nbytes"
   ]
  }
 ],
 "metadata": {
  "kernelspec": {
   "display_name": "Python 3 (ipykernel)",
   "language": "python",
   "name": "python3"
  },
  "language_info": {
   "codemirror_mode": {
    "name": "ipython",
    "version": 3
   },
   "file_extension": ".py",
   "mimetype": "text/x-python",
   "name": "python",
   "nbconvert_exporter": "python",
   "pygments_lexer": "ipython3",
   "version": "3.11.5"
  }
 },
 "nbformat": 4,
 "nbformat_minor": 5
}
